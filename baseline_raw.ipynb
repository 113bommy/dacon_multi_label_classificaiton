{
 "cells": [
  {
   "cell_type": "markdown",
   "id": "a2bcba5f-002e-4f49-9622-ada6117faf0a",
   "metadata": {},
   "source": [
    "## Import"
   ]
  },
  {
   "cell_type": "code",
   "execution_count": 1,
   "id": "2b0d9b68-7102-4eca-9543-3b9b8acafc6e",
   "metadata": {},
   "outputs": [
    {
     "name": "stdout",
     "output_type": "stream",
     "text": [
      "True\n",
      "1\n",
      "NVIDIA GeForce RTX 3070\n"
     ]
    }
   ],
   "source": [
    "import random\n",
    "import pandas as pd\n",
    "import numpy as np\n",
    "import os\n",
    "from PIL import Image\n",
    "\n",
    "import torch\n",
    "import torch.nn as nn\n",
    "import torch.optim as optim\n",
    "import torch.nn.functional as F\n",
    "from torch.utils.data import Dataset, DataLoader\n",
    "\n",
    "from torchvision import transforms\n",
    "import torchvision.models as models\n",
    "\n",
    "from tqdm.auto import tqdm\n",
    "\n",
    "import warnings\n",
    "warnings.filterwarnings(action='ignore')\n",
    "\n",
    "torch.backends.cudnn.benchmark = True\n",
    "print(torch.cuda.is_available())\n",
    "print(torch.cuda.device_count())\n",
    "print(torch.cuda.get_device_name(torch.cuda.current_device()))"
   ]
  },
  {
   "cell_type": "code",
   "execution_count": 2,
   "id": "d13862e3-bb27-47af-9b58-a9fbf804df71",
   "metadata": {},
   "outputs": [],
   "source": [
    "device = torch.device('cuda') if torch.cuda.is_available() else torch.device('cpu')"
   ]
  },
  {
   "cell_type": "markdown",
   "id": "fc7df3f2-62d0-4499-a46e-47d01699def0",
   "metadata": {},
   "source": [
    "## Hyperparameter Setting"
   ]
  },
  {
   "cell_type": "code",
   "execution_count": 25,
   "id": "c3367399-9798-4e38-967b-fd2320b9a2b2",
   "metadata": {},
   "outputs": [],
   "source": [
    "CFG = {\n",
    "    'IMG_SIZE':224,\n",
    "    'EPOCHS':1,\n",
    "    'LEARNING_RATE':3e-4,\n",
    "    'BATCH_SIZE':32,\n",
    "    'SEED':41\n",
    "}"
   ]
  },
  {
   "cell_type": "markdown",
   "id": "4254e860-ff82-43ba-bfa3-fcee4eb3ddbd",
   "metadata": {},
   "source": [
    "## Fixed RandomSeed"
   ]
  },
  {
   "cell_type": "code",
   "execution_count": 26,
   "id": "101a714b-71b6-4475-a4ce-fa5f98bc2731",
   "metadata": {},
   "outputs": [],
   "source": [
    "def seed_everything(seed):\n",
    "    random.seed(seed)\n",
    "    os.environ['PYTHONHASHSEED'] = str(seed)\n",
    "    np.random.seed(seed)\n",
    "    torch.manual_seed(seed)\n",
    "    torch.cuda.manual_seed(seed)\n",
    "    torch.backends.cudnn.deterministic = True\n",
    "    torch.backends.cudnn.benchmark = True\n",
    "\n",
    "seed_everything(CFG['SEED']) # Seed 고정"
   ]
  },
  {
   "cell_type": "markdown",
   "id": "05a4172e-5791-446f-9616-35c09d8bf25a",
   "metadata": {},
   "source": [
    "## Data Load"
   ]
  },
  {
   "cell_type": "code",
   "execution_count": 27,
   "id": "a62c78cd-4f40-4e98-b8a6-1b6f1d906b4d",
   "metadata": {},
   "outputs": [
    {
     "data": {
      "text/html": [
       "<div>\n",
       "<style scoped>\n",
       "    .dataframe tbody tr th:only-of-type {\n",
       "        vertical-align: middle;\n",
       "    }\n",
       "\n",
       "    .dataframe tbody tr th {\n",
       "        vertical-align: top;\n",
       "    }\n",
       "\n",
       "    .dataframe thead th {\n",
       "        text-align: right;\n",
       "    }\n",
       "</style>\n",
       "<table border=\"1\" class=\"dataframe\">\n",
       "  <thead>\n",
       "    <tr style=\"text-align: right;\">\n",
       "      <th></th>\n",
       "      <th>img_id</th>\n",
       "      <th>img_path</th>\n",
       "      <th>airplane</th>\n",
       "      <th>airport</th>\n",
       "      <th>bare soil</th>\n",
       "      <th>baseball diamond</th>\n",
       "      <th>basketball court</th>\n",
       "      <th>beach</th>\n",
       "      <th>bridge</th>\n",
       "      <th>buildings</th>\n",
       "      <th>...</th>\n",
       "      <th>tanks</th>\n",
       "      <th>tennis court</th>\n",
       "      <th>terrace</th>\n",
       "      <th>track</th>\n",
       "      <th>trail</th>\n",
       "      <th>transmission tower</th>\n",
       "      <th>trees</th>\n",
       "      <th>water</th>\n",
       "      <th>wetland</th>\n",
       "      <th>wind turbine</th>\n",
       "    </tr>\n",
       "  </thead>\n",
       "  <tbody>\n",
       "    <tr>\n",
       "      <th>0</th>\n",
       "      <td>000L8TYE</td>\n",
       "      <td>./train/000L8TYE.jpg</td>\n",
       "      <td>0</td>\n",
       "      <td>0</td>\n",
       "      <td>0</td>\n",
       "      <td>0</td>\n",
       "      <td>0</td>\n",
       "      <td>0</td>\n",
       "      <td>0</td>\n",
       "      <td>1</td>\n",
       "      <td>...</td>\n",
       "      <td>0</td>\n",
       "      <td>0</td>\n",
       "      <td>0</td>\n",
       "      <td>0</td>\n",
       "      <td>0</td>\n",
       "      <td>0</td>\n",
       "      <td>1</td>\n",
       "      <td>1</td>\n",
       "      <td>0</td>\n",
       "      <td>0</td>\n",
       "    </tr>\n",
       "    <tr>\n",
       "      <th>1</th>\n",
       "      <td>0035QTK9</td>\n",
       "      <td>./train/0035QTK9.jpg</td>\n",
       "      <td>0</td>\n",
       "      <td>0</td>\n",
       "      <td>1</td>\n",
       "      <td>0</td>\n",
       "      <td>0</td>\n",
       "      <td>0</td>\n",
       "      <td>0</td>\n",
       "      <td>1</td>\n",
       "      <td>...</td>\n",
       "      <td>0</td>\n",
       "      <td>0</td>\n",
       "      <td>0</td>\n",
       "      <td>0</td>\n",
       "      <td>0</td>\n",
       "      <td>0</td>\n",
       "      <td>1</td>\n",
       "      <td>0</td>\n",
       "      <td>0</td>\n",
       "      <td>0</td>\n",
       "    </tr>\n",
       "    <tr>\n",
       "      <th>2</th>\n",
       "      <td>00470HEH</td>\n",
       "      <td>./train/00470HEH.jpg</td>\n",
       "      <td>0</td>\n",
       "      <td>0</td>\n",
       "      <td>0</td>\n",
       "      <td>0</td>\n",
       "      <td>0</td>\n",
       "      <td>0</td>\n",
       "      <td>0</td>\n",
       "      <td>1</td>\n",
       "      <td>...</td>\n",
       "      <td>0</td>\n",
       "      <td>0</td>\n",
       "      <td>0</td>\n",
       "      <td>0</td>\n",
       "      <td>0</td>\n",
       "      <td>0</td>\n",
       "      <td>1</td>\n",
       "      <td>0</td>\n",
       "      <td>0</td>\n",
       "      <td>0</td>\n",
       "    </tr>\n",
       "    <tr>\n",
       "      <th>3</th>\n",
       "      <td>004CCB2Q</td>\n",
       "      <td>./train/004CCB2Q.jpg</td>\n",
       "      <td>0</td>\n",
       "      <td>0</td>\n",
       "      <td>1</td>\n",
       "      <td>0</td>\n",
       "      <td>0</td>\n",
       "      <td>0</td>\n",
       "      <td>0</td>\n",
       "      <td>0</td>\n",
       "      <td>...</td>\n",
       "      <td>0</td>\n",
       "      <td>0</td>\n",
       "      <td>0</td>\n",
       "      <td>0</td>\n",
       "      <td>0</td>\n",
       "      <td>0</td>\n",
       "      <td>1</td>\n",
       "      <td>1</td>\n",
       "      <td>0</td>\n",
       "      <td>0</td>\n",
       "    </tr>\n",
       "    <tr>\n",
       "      <th>4</th>\n",
       "      <td>005AY4ES</td>\n",
       "      <td>./train/005AY4ES.jpg</td>\n",
       "      <td>0</td>\n",
       "      <td>0</td>\n",
       "      <td>1</td>\n",
       "      <td>0</td>\n",
       "      <td>0</td>\n",
       "      <td>0</td>\n",
       "      <td>0</td>\n",
       "      <td>0</td>\n",
       "      <td>...</td>\n",
       "      <td>0</td>\n",
       "      <td>0</td>\n",
       "      <td>0</td>\n",
       "      <td>0</td>\n",
       "      <td>1</td>\n",
       "      <td>0</td>\n",
       "      <td>1</td>\n",
       "      <td>1</td>\n",
       "      <td>0</td>\n",
       "      <td>0</td>\n",
       "    </tr>\n",
       "  </tbody>\n",
       "</table>\n",
       "<p>5 rows × 62 columns</p>\n",
       "</div>"
      ],
      "text/plain": [
       "     img_id              img_path  airplane  airport  bare soil  \\\n",
       "0  000L8TYE  ./train/000L8TYE.jpg         0        0          0   \n",
       "1  0035QTK9  ./train/0035QTK9.jpg         0        0          1   \n",
       "2  00470HEH  ./train/00470HEH.jpg         0        0          0   \n",
       "3  004CCB2Q  ./train/004CCB2Q.jpg         0        0          1   \n",
       "4  005AY4ES  ./train/005AY4ES.jpg         0        0          1   \n",
       "\n",
       "   baseball diamond  basketball court  beach  bridge  buildings  ...  tanks  \\\n",
       "0                 0                 0      0       0          1  ...      0   \n",
       "1                 0                 0      0       0          1  ...      0   \n",
       "2                 0                 0      0       0          1  ...      0   \n",
       "3                 0                 0      0       0          0  ...      0   \n",
       "4                 0                 0      0       0          0  ...      0   \n",
       "\n",
       "   tennis court  terrace  track  trail  transmission tower  trees  water  \\\n",
       "0             0        0      0      0                   0      1      1   \n",
       "1             0        0      0      0                   0      1      0   \n",
       "2             0        0      0      0                   0      1      0   \n",
       "3             0        0      0      0                   0      1      1   \n",
       "4             0        0      0      1                   0      1      1   \n",
       "\n",
       "   wetland  wind turbine  \n",
       "0        0             0  \n",
       "1        0             0  \n",
       "2        0             0  \n",
       "3        0             0  \n",
       "4        0             0  \n",
       "\n",
       "[5 rows x 62 columns]"
      ]
     },
     "execution_count": 27,
     "metadata": {},
     "output_type": "execute_result"
    }
   ],
   "source": [
    "df = pd.read_csv('./train.csv')\n",
    "df.head()"
   ]
  },
  {
   "cell_type": "markdown",
   "id": "0380b40a-f540-4225-8ffc-50059fd28a2c",
   "metadata": {},
   "source": [
    "## Train / Validation Split"
   ]
  },
  {
   "cell_type": "code",
   "execution_count": 28,
   "id": "e6264d0c-597c-42ac-9f3a-7189a5883028",
   "metadata": {},
   "outputs": [],
   "source": [
    "df = df.sample(frac=1)\n",
    "train_len = int(len(df) * 0.8)\n",
    "train_df = df[:train_len]\n",
    "val_df = df[train_len:]"
   ]
  },
  {
   "cell_type": "code",
   "execution_count": 29,
   "id": "65e347ca-2363-4d7c-960b-76f8d7d9ba32",
   "metadata": {},
   "outputs": [
    {
     "data": {
      "text/plain": [
       "((52396, 62), (13100, 62))"
      ]
     },
     "execution_count": 29,
     "metadata": {},
     "output_type": "execute_result"
    }
   ],
   "source": [
    "(train_df.shape, val_df.shape)"
   ]
  },
  {
   "cell_type": "markdown",
   "id": "ad2d1e99-e723-4eb8-973c-b7eb2f8a771a",
   "metadata": {},
   "source": [
    "## Data Preprocessing"
   ]
  },
  {
   "cell_type": "code",
   "execution_count": 30,
   "id": "3ca4c3bb-d300-4c2a-9147-94d90e6faab6",
   "metadata": {},
   "outputs": [],
   "source": [
    "def get_labels(df):\n",
    "    return df.iloc[:,2:].values\n",
    "\n",
    "train_labels = get_labels(train_df)\n",
    "val_labels = get_labels(val_df)"
   ]
  },
  {
   "cell_type": "code",
   "execution_count": 31,
   "id": "bd787b46-3bf0-4f36-9dec-69a03bf921e0",
   "metadata": {},
   "outputs": [
    {
     "data": {
      "text/plain": [
       "((52396, 60), (13100, 60))"
      ]
     },
     "execution_count": 31,
     "metadata": {},
     "output_type": "execute_result"
    }
   ],
   "source": [
    "(train_labels.shape, val_labels.shape)"
   ]
  },
  {
   "cell_type": "markdown",
   "id": "ac27ed36-8031-47a7-bd0d-a913513f2e8e",
   "metadata": {},
   "source": [
    "## CustomDataset"
   ]
  },
  {
   "cell_type": "code",
   "execution_count": 32,
   "id": "16fd60a5-24e2-4539-bfd0-1c374a641699",
   "metadata": {},
   "outputs": [],
   "source": [
    "class CustomDataset(Dataset):\n",
    "    def __init__(self, img_path_list, label_list, transform=None):\n",
    "        self.img_path_list = img_path_list\n",
    "        self.label_list = label_list\n",
    "        self.transform = transform\n",
    "        \n",
    "    def __getitem__(self, index):\n",
    "        img_path = self.img_path_list[index]\n",
    "\n",
    "        # PIL 이미지로 불러오기\n",
    "        image = Image.open(img_path).convert(\"RGB\")\n",
    "        if self.transform is not None:\n",
    "            image = self.transform(image)\n",
    "        \n",
    "        if self.label_list is not None:\n",
    "            label = torch.tensor(self.label_list[index], dtype=torch.float32)\n",
    "            return image, label\n",
    "        else:\n",
    "            return image\n",
    "        \n",
    "    def __len__(self):\n",
    "        return len(self.img_path_list)"
   ]
  },
  {
   "cell_type": "code",
   "execution_count": 33,
   "id": "c01b4067-0669-44a9-bbbc-3065d8cb00c2",
   "metadata": {},
   "outputs": [],
   "source": [
    "train_transform = transforms.Compose([\n",
    "    transforms.ToTensor(),\n",
    "    transforms.Resize((CFG['IMG_SIZE'], CFG['IMG_SIZE'])),\n",
    "    transforms.RandomHorizontalFlip(p=0.5),\n",
    "    transforms.RandomRotation(degrees=(-30, 30), interpolation=transforms.InterpolationMode.BILINEAR, fill=0),\n",
    "    transforms.RandomAdjustSharpness(sharpness_factor=0.5, p=0.5),\n",
    "    transforms.Normalize(mean=[0.485, 0.456, 0.406], std=[0.229, 0.224, 0.225])\n",
    "])\n",
    "\n",
    "test_transform = transforms.Compose([\n",
    "    transforms.ToTensor(),\n",
    "    transforms.Resize((CFG['IMG_SIZE'], CFG['IMG_SIZE'])),\n",
    "    transforms.Normalize(mean=[0.485, 0.456, 0.406], std=[0.229, 0.224, 0.225])\n",
    "])"
   ]
  },
  {
   "cell_type": "code",
   "execution_count": 34,
   "id": "9d880481-1965-499d-9caa-fdfa8526f789",
   "metadata": {},
   "outputs": [],
   "source": [
    "train_dataset = CustomDataset(train_df['img_path'].values, train_labels, train_transform)\n",
    "train_loader = DataLoader(train_dataset, batch_size = CFG['BATCH_SIZE'], shuffle=True, num_workers=0)\n",
    "\n",
    "val_dataset = CustomDataset(val_df['img_path'].values, val_labels, test_transform)\n",
    "val_loader = DataLoader(val_dataset, batch_size = CFG['BATCH_SIZE'], shuffle=False, num_workers=0)"
   ]
  },
  {
   "cell_type": "markdown",
   "id": "39962463-032f-490a-a76d-c03991795f38",
   "metadata": {},
   "source": [
    "## Model Define"
   ]
  },
  {
   "cell_type": "code",
   "execution_count": 35,
   "id": "3664c4d0-f1f2-4971-9090-4d6ee66309ae",
   "metadata": {},
   "outputs": [],
   "source": [
    "class BaseModel(nn.Module):\n",
    "    def __init__(self, num_classes=60):\n",
    "        super(BaseModel, self).__init__()\n",
    "        self.backbone = models.resnet50(pretrained=True)\n",
    "        self.classifier = nn.Linear(1000, num_classes)\n",
    "        \n",
    "    def forward(self, x):\n",
    "        x = self.backbone(x)\n",
    "        x = F.sigmoid(self.classifier(x))\n",
    "        return x"
   ]
  },
  {
   "cell_type": "markdown",
   "id": "122af0aa-a1fd-4595-9488-35761e3cb596",
   "metadata": {},
   "source": [
    "## Train"
   ]
  },
  {
   "cell_type": "code",
   "execution_count": 36,
   "id": "a17df6b3-16c9-44dd-b0fd-ffb501fee749",
   "metadata": {},
   "outputs": [],
   "source": [
    "def train(model, optimizer, train_loader, val_loader, device):\n",
    "    model.to(device)\n",
    "    criterion = nn.BCELoss().to(device)\n",
    "    \n",
    "    best_val_loss = float('inf') \n",
    "    best_model = None\n",
    "    \n",
    "    for epoch in range(1, CFG['EPOCHS']+1):\n",
    "        model.train()\n",
    "        train_loss = []\n",
    "        for imgs, labels in tqdm(iter(train_loader)):\n",
    "            imgs = imgs.float().to(device)\n",
    "            labels = labels.to(device)\n",
    "            \n",
    "            optimizer.zero_grad()\n",
    "            \n",
    "            output = model(imgs)\n",
    "            loss = criterion(output, labels)\n",
    "            \n",
    "            loss.backward()\n",
    "            optimizer.step()\n",
    "            \n",
    "            train_loss.append(loss.item())\n",
    "                    \n",
    "        _val_loss = validation(model, criterion, val_loader, device)\n",
    "        _train_loss = np.mean(train_loss)\n",
    "        print(f'Epoch [{epoch}], Train Loss : [{_train_loss:.5f}] Val Loss : [{_val_loss:.5f}]')\n",
    "            \n",
    "        if best_val_loss > _val_loss:\n",
    "            best_val_loss = _val_loss\n",
    "            best_model = model\n",
    "    \n",
    "    return best_model"
   ]
  },
  {
   "cell_type": "code",
   "execution_count": 37,
   "id": "24a0bf01-27cd-4faf-93b1-3aa8a37be01c",
   "metadata": {},
   "outputs": [],
   "source": [
    "def validation(model, criterion, val_loader, device):\n",
    "    model.eval()\n",
    "    val_loss = []\n",
    "    with torch.no_grad():\n",
    "        for imgs, labels in tqdm(iter(val_loader)):\n",
    "            imgs = imgs.float().to(device)\n",
    "            labels = labels.to(device)\n",
    "            \n",
    "            probs = model(imgs)\n",
    "            \n",
    "            loss = criterion(probs, labels)\n",
    "\n",
    "            val_loss.append(loss.item())\n",
    "        \n",
    "        _val_loss = np.mean(val_loss)\n",
    "    \n",
    "    return _val_loss"
   ]
  },
  {
   "cell_type": "markdown",
   "id": "51da39f9-904f-4abd-a7d2-cdf29c4a6c24",
   "metadata": {},
   "source": [
    "## Run!!"
   ]
  },
  {
   "cell_type": "code",
   "execution_count": 40,
   "id": "86142d9a-68b7-4d04-8423-49d28025411d",
   "metadata": {
    "tags": []
   },
   "outputs": [
    {
     "data": {
      "application/vnd.jupyter.widget-view+json": {
       "model_id": "0b71e14bd85b4723a5b21da21616671a",
       "version_major": 2,
       "version_minor": 0
      },
      "text/plain": [
       "  0%|          | 0/1638 [00:00<?, ?it/s]"
      ]
     },
     "metadata": {},
     "output_type": "display_data"
    },
    {
     "data": {
      "application/vnd.jupyter.widget-view+json": {
       "model_id": "f5787772b8304af9b97ad7afc4490687",
       "version_major": 2,
       "version_minor": 0
      },
      "text/plain": [
       "  0%|          | 0/410 [00:00<?, ?it/s]"
      ]
     },
     "metadata": {},
     "output_type": "display_data"
    },
    {
     "name": "stdout",
     "output_type": "stream",
     "text": [
      "Epoch [1], Train Loss : [0.05100] Val Loss : [0.05905]\n"
     ]
    }
   ],
   "source": [
    "#model = BaseModel()\n",
    "optimizer = torch.optim.Adam(params = model.parameters(), lr = CFG[\"LEARNING_RATE\"])\n",
    "\n",
    "infer_model = train(model, optimizer, train_loader, val_loader, device)"
   ]
  },
  {
   "cell_type": "markdown",
   "id": "d32efed9-ec88-40fc-83d2-e995e48c372a",
   "metadata": {},
   "source": [
    "## Inference"
   ]
  },
  {
   "cell_type": "code",
   "execution_count": 17,
   "id": "0498feef-9ca7-42ea-b73a-51a06dd4c684",
   "metadata": {},
   "outputs": [],
   "source": [
    "test = pd.read_csv('./test.csv')"
   ]
  },
  {
   "cell_type": "code",
   "execution_count": 19,
   "id": "a1bc676a-5216-4e1a-ac2c-3e940e8a3909",
   "metadata": {},
   "outputs": [],
   "source": [
    "test_dataset = CustomDataset(test['img_path'].values, None, test_transform)\n",
    "test_loader = DataLoader(test_dataset, batch_size = CFG['BATCH_SIZE'], shuffle=False, num_workers=0)"
   ]
  },
  {
   "cell_type": "code",
   "execution_count": 20,
   "id": "acc072b1-3749-4a0a-8c3b-80ef39a2fd56",
   "metadata": {},
   "outputs": [],
   "source": [
    "def inference(model, test_loader, device):\n",
    "    model.to(device)\n",
    "    model.eval()\n",
    "    predictions = []\n",
    "    with torch.no_grad():\n",
    "        for imgs in tqdm(iter(test_loader)):\n",
    "            imgs = imgs.float().to(device)\n",
    "            \n",
    "            probs = model(imgs)\n",
    "\n",
    "            probs  = probs.cpu().detach().numpy()\n",
    "            predictions += probs.tolist()\n",
    "    return predictions"
   ]
  },
  {
   "cell_type": "code",
   "execution_count": 21,
   "id": "9fcce1a1-995c-403b-9229-f4253dd5c702",
   "metadata": {},
   "outputs": [
    {
     "data": {
      "application/vnd.jupyter.widget-view+json": {
       "model_id": "784edd0f598b4d0facd911b928f61a6e",
       "version_major": 2,
       "version_minor": 0
      },
      "text/plain": [
       "  0%|          | 0/1365 [00:00<?, ?it/s]"
      ]
     },
     "metadata": {},
     "output_type": "display_data"
    }
   ],
   "source": [
    "preds = inference(infer_model, test_loader, device)"
   ]
  },
  {
   "cell_type": "markdown",
   "id": "370e5a18-de28-4c3d-a33b-77d4797911eb",
   "metadata": {},
   "source": [
    "## Submission"
   ]
  },
  {
   "cell_type": "code",
   "execution_count": 22,
   "id": "95107b25-7d4b-423f-90ce-849c6f4a46c0",
   "metadata": {},
   "outputs": [],
   "source": [
    "submit = pd.read_csv('./sample_submission.csv')"
   ]
  },
  {
   "cell_type": "code",
   "execution_count": 23,
   "id": "c7d82083-af35-4ba5-957d-1c7451404eab",
   "metadata": {
    "tags": []
   },
   "outputs": [
    {
     "data": {
      "text/html": [
       "<div>\n",
       "<style scoped>\n",
       "    .dataframe tbody tr th:only-of-type {\n",
       "        vertical-align: middle;\n",
       "    }\n",
       "\n",
       "    .dataframe tbody tr th {\n",
       "        vertical-align: top;\n",
       "    }\n",
       "\n",
       "    .dataframe thead th {\n",
       "        text-align: right;\n",
       "    }\n",
       "</style>\n",
       "<table border=\"1\" class=\"dataframe\">\n",
       "  <thead>\n",
       "    <tr style=\"text-align: right;\">\n",
       "      <th></th>\n",
       "      <th>img_id</th>\n",
       "      <th>airplane</th>\n",
       "      <th>airport</th>\n",
       "      <th>bare soil</th>\n",
       "      <th>baseball diamond</th>\n",
       "      <th>basketball court</th>\n",
       "      <th>beach</th>\n",
       "      <th>bridge</th>\n",
       "      <th>buildings</th>\n",
       "      <th>cars</th>\n",
       "      <th>...</th>\n",
       "      <th>tanks</th>\n",
       "      <th>tennis court</th>\n",
       "      <th>terrace</th>\n",
       "      <th>track</th>\n",
       "      <th>trail</th>\n",
       "      <th>transmission tower</th>\n",
       "      <th>trees</th>\n",
       "      <th>water</th>\n",
       "      <th>wetland</th>\n",
       "      <th>wind turbine</th>\n",
       "    </tr>\n",
       "  </thead>\n",
       "  <tbody>\n",
       "    <tr>\n",
       "      <th>0</th>\n",
       "      <td>000TT5XV</td>\n",
       "      <td>4.897155e-05</td>\n",
       "      <td>6.596008e-04</td>\n",
       "      <td>0.619358</td>\n",
       "      <td>1.922089e-06</td>\n",
       "      <td>2.871957e-05</td>\n",
       "      <td>1.489484e-02</td>\n",
       "      <td>0.012415</td>\n",
       "      <td>0.495266</td>\n",
       "      <td>0.902950</td>\n",
       "      <td>...</td>\n",
       "      <td>3.692031e-05</td>\n",
       "      <td>0.000168</td>\n",
       "      <td>3.644133e-05</td>\n",
       "      <td>0.000094</td>\n",
       "      <td>0.000593</td>\n",
       "      <td>0.000050</td>\n",
       "      <td>0.004349</td>\n",
       "      <td>0.999922</td>\n",
       "      <td>1.528899e-04</td>\n",
       "      <td>1.377674e-05</td>\n",
       "    </tr>\n",
       "    <tr>\n",
       "      <th>1</th>\n",
       "      <td>0013XXDH</td>\n",
       "      <td>6.383625e-06</td>\n",
       "      <td>7.588739e-05</td>\n",
       "      <td>0.042676</td>\n",
       "      <td>3.949954e-05</td>\n",
       "      <td>8.796699e-05</td>\n",
       "      <td>1.769295e-05</td>\n",
       "      <td>0.000040</td>\n",
       "      <td>0.019952</td>\n",
       "      <td>0.001714</td>\n",
       "      <td>...</td>\n",
       "      <td>1.090498e-04</td>\n",
       "      <td>0.000135</td>\n",
       "      <td>1.524915e-03</td>\n",
       "      <td>0.000210</td>\n",
       "      <td>0.051036</td>\n",
       "      <td>0.000074</td>\n",
       "      <td>0.939081</td>\n",
       "      <td>0.008217</td>\n",
       "      <td>5.700292e-02</td>\n",
       "      <td>7.353675e-06</td>\n",
       "    </tr>\n",
       "    <tr>\n",
       "      <th>2</th>\n",
       "      <td>001Z4YNH</td>\n",
       "      <td>1.078343e-08</td>\n",
       "      <td>9.955925e-08</td>\n",
       "      <td>0.360487</td>\n",
       "      <td>1.278414e-05</td>\n",
       "      <td>5.020032e-06</td>\n",
       "      <td>2.647928e-08</td>\n",
       "      <td>0.000013</td>\n",
       "      <td>0.765668</td>\n",
       "      <td>0.789773</td>\n",
       "      <td>...</td>\n",
       "      <td>2.587871e-05</td>\n",
       "      <td>0.999995</td>\n",
       "      <td>2.978467e-05</td>\n",
       "      <td>0.000026</td>\n",
       "      <td>0.000253</td>\n",
       "      <td>0.000067</td>\n",
       "      <td>0.999819</td>\n",
       "      <td>0.058570</td>\n",
       "      <td>7.633282e-07</td>\n",
       "      <td>6.947138e-11</td>\n",
       "    </tr>\n",
       "    <tr>\n",
       "      <th>3</th>\n",
       "      <td>00297F36</td>\n",
       "      <td>1.075096e-04</td>\n",
       "      <td>1.549047e-04</td>\n",
       "      <td>0.042954</td>\n",
       "      <td>8.992925e-06</td>\n",
       "      <td>1.008256e-03</td>\n",
       "      <td>1.476440e-05</td>\n",
       "      <td>0.000550</td>\n",
       "      <td>0.989410</td>\n",
       "      <td>0.994490</td>\n",
       "      <td>...</td>\n",
       "      <td>2.922793e-01</td>\n",
       "      <td>0.270669</td>\n",
       "      <td>2.230335e-01</td>\n",
       "      <td>0.177042</td>\n",
       "      <td>0.142751</td>\n",
       "      <td>0.195426</td>\n",
       "      <td>0.997254</td>\n",
       "      <td>0.014534</td>\n",
       "      <td>3.331943e-04</td>\n",
       "      <td>3.846846e-06</td>\n",
       "    </tr>\n",
       "    <tr>\n",
       "      <th>4</th>\n",
       "      <td>002GFJL0</td>\n",
       "      <td>4.752504e-08</td>\n",
       "      <td>3.155917e-06</td>\n",
       "      <td>0.667778</td>\n",
       "      <td>2.647803e-07</td>\n",
       "      <td>4.266696e-07</td>\n",
       "      <td>3.175377e-06</td>\n",
       "      <td>0.000017</td>\n",
       "      <td>0.966412</td>\n",
       "      <td>0.948461</td>\n",
       "      <td>...</td>\n",
       "      <td>5.259595e-07</td>\n",
       "      <td>0.000034</td>\n",
       "      <td>3.562671e-07</td>\n",
       "      <td>0.000001</td>\n",
       "      <td>0.000009</td>\n",
       "      <td>0.000001</td>\n",
       "      <td>0.000647</td>\n",
       "      <td>0.999944</td>\n",
       "      <td>1.722546e-06</td>\n",
       "      <td>3.355493e-07</td>\n",
       "    </tr>\n",
       "  </tbody>\n",
       "</table>\n",
       "<p>5 rows × 61 columns</p>\n",
       "</div>"
      ],
      "text/plain": [
       "     img_id      airplane       airport  bare soil  baseball diamond  \\\n",
       "0  000TT5XV  4.897155e-05  6.596008e-04   0.619358      1.922089e-06   \n",
       "1  0013XXDH  6.383625e-06  7.588739e-05   0.042676      3.949954e-05   \n",
       "2  001Z4YNH  1.078343e-08  9.955925e-08   0.360487      1.278414e-05   \n",
       "3  00297F36  1.075096e-04  1.549047e-04   0.042954      8.992925e-06   \n",
       "4  002GFJL0  4.752504e-08  3.155917e-06   0.667778      2.647803e-07   \n",
       "\n",
       "   basketball court         beach    bridge  buildings      cars  ...  \\\n",
       "0      2.871957e-05  1.489484e-02  0.012415   0.495266  0.902950  ...   \n",
       "1      8.796699e-05  1.769295e-05  0.000040   0.019952  0.001714  ...   \n",
       "2      5.020032e-06  2.647928e-08  0.000013   0.765668  0.789773  ...   \n",
       "3      1.008256e-03  1.476440e-05  0.000550   0.989410  0.994490  ...   \n",
       "4      4.266696e-07  3.175377e-06  0.000017   0.966412  0.948461  ...   \n",
       "\n",
       "          tanks  tennis court       terrace     track     trail  \\\n",
       "0  3.692031e-05      0.000168  3.644133e-05  0.000094  0.000593   \n",
       "1  1.090498e-04      0.000135  1.524915e-03  0.000210  0.051036   \n",
       "2  2.587871e-05      0.999995  2.978467e-05  0.000026  0.000253   \n",
       "3  2.922793e-01      0.270669  2.230335e-01  0.177042  0.142751   \n",
       "4  5.259595e-07      0.000034  3.562671e-07  0.000001  0.000009   \n",
       "\n",
       "   transmission tower     trees     water       wetland  wind turbine  \n",
       "0            0.000050  0.004349  0.999922  1.528899e-04  1.377674e-05  \n",
       "1            0.000074  0.939081  0.008217  5.700292e-02  7.353675e-06  \n",
       "2            0.000067  0.999819  0.058570  7.633282e-07  6.947138e-11  \n",
       "3            0.195426  0.997254  0.014534  3.331943e-04  3.846846e-06  \n",
       "4            0.000001  0.000647  0.999944  1.722546e-06  3.355493e-07  \n",
       "\n",
       "[5 rows x 61 columns]"
      ]
     },
     "execution_count": 23,
     "metadata": {},
     "output_type": "execute_result"
    }
   ],
   "source": [
    "submit.iloc[:,1:] = preds\n",
    "submit.head()"
   ]
  },
  {
   "cell_type": "code",
   "execution_count": 24,
   "id": "dd24b98d-1ac7-46df-a833-16d4cb57ac04",
   "metadata": {},
   "outputs": [],
   "source": [
    "submit.to_csv('./baseline_submit.csv', index=False)"
   ]
  },
  {
   "cell_type": "code",
   "execution_count": null,
   "id": "44261cbd-98a5-403c-bfb0-0ccac62cd54b",
   "metadata": {},
   "outputs": [],
   "source": []
  }
 ],
 "metadata": {
  "kernelspec": {
   "display_name": "Python 3 (ipykernel)",
   "language": "python",
   "name": "python3"
  },
  "language_info": {
   "codemirror_mode": {
    "name": "ipython",
    "version": 3
   },
   "file_extension": ".py",
   "mimetype": "text/x-python",
   "name": "python",
   "nbconvert_exporter": "python",
   "pygments_lexer": "ipython3",
   "version": "3.9.18"
  }
 },
 "nbformat": 4,
 "nbformat_minor": 5
}
