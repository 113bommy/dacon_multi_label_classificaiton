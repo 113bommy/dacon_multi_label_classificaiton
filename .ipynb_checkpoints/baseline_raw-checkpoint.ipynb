{
 "cells": [
  {
   "cell_type": "markdown",
   "id": "a2bcba5f-002e-4f49-9622-ada6117faf0a",
   "metadata": {},
   "source": [
    "## Import"
   ]
  },
  {
   "cell_type": "code",
   "execution_count": 2,
   "id": "2b0d9b68-7102-4eca-9543-3b9b8acafc6e",
   "metadata": {},
   "outputs": [
    {
     "name": "stdout",
     "output_type": "stream",
     "text": [
      "True\n",
      "1\n",
      "NVIDIA GeForce RTX 3070\n"
     ]
    }
   ],
   "source": [
    "import random\n",
    "import pandas as pd\n",
    "import numpy as np\n",
    "import os\n",
    "from PIL import Image\n",
    "\n",
    "import torch\n",
    "import torch.nn as nn\n",
    "import torch.optim as optim\n",
    "import torch.nn.functional as F\n",
    "from torch.utils.data import Dataset, DataLoader\n",
    "\n",
    "from torchvision import transforms\n",
    "import torchvision.models as models\n",
    "\n",
    "from tqdm.auto import tqdm\n",
    "\n",
    "import warnings\n",
    "warnings.filterwarnings(action='ignore')\n",
    "\n",
    "torch.backends.cudnn.benchmark = True\n",
    "print(torch.cuda.is_available())\n",
    "print(torch.cuda.device_count())\n",
    "print(torch.cuda.get_device_name(torch.cuda.current_device()))"
   ]
  },
  {
   "cell_type": "code",
   "execution_count": 3,
   "id": "d13862e3-bb27-47af-9b58-a9fbf804df71",
   "metadata": {},
   "outputs": [],
   "source": [
    "device = torch.device('cuda') if torch.cuda.is_available() else torch.device('cpu')"
   ]
  },
  {
   "cell_type": "markdown",
   "id": "fc7df3f2-62d0-4499-a46e-47d01699def0",
   "metadata": {},
   "source": [
    "## Hyperparameter Setting"
   ]
  },
  {
   "cell_type": "code",
   "execution_count": 37,
   "id": "c3367399-9798-4e38-967b-fd2320b9a2b2",
   "metadata": {},
   "outputs": [],
   "source": [
    "CFG = {\n",
    "    'IMG_SIZE':224,\n",
    "    'EPOCHS':8,\n",
    "    'LEARNING_RATE':3e-4,\n",
    "    'BATCH_SIZE':32,\n",
    "    'SEED':41\n",
    "}"
   ]
  },
  {
   "cell_type": "markdown",
   "id": "4254e860-ff82-43ba-bfa3-fcee4eb3ddbd",
   "metadata": {},
   "source": [
    "## Fixed RandomSeed"
   ]
  },
  {
   "cell_type": "code",
   "execution_count": 38,
   "id": "101a714b-71b6-4475-a4ce-fa5f98bc2731",
   "metadata": {},
   "outputs": [],
   "source": [
    "def seed_everything(seed):\n",
    "    random.seed(seed)\n",
    "    os.environ['PYTHONHASHSEED'] = str(seed)\n",
    "    np.random.seed(seed)\n",
    "    torch.manual_seed(seed)\n",
    "    torch.cuda.manual_seed(seed)\n",
    "    torch.backends.cudnn.deterministic = True\n",
    "    torch.backends.cudnn.benchmark = True\n",
    "\n",
    "seed_everything(CFG['SEED']) # Seed 고정"
   ]
  },
  {
   "cell_type": "markdown",
   "id": "05a4172e-5791-446f-9616-35c09d8bf25a",
   "metadata": {},
   "source": [
    "## Data Load"
   ]
  },
  {
   "cell_type": "code",
   "execution_count": 39,
   "id": "a62c78cd-4f40-4e98-b8a6-1b6f1d906b4d",
   "metadata": {},
   "outputs": [
    {
     "data": {
      "text/html": [
       "<div>\n",
       "<style scoped>\n",
       "    .dataframe tbody tr th:only-of-type {\n",
       "        vertical-align: middle;\n",
       "    }\n",
       "\n",
       "    .dataframe tbody tr th {\n",
       "        vertical-align: top;\n",
       "    }\n",
       "\n",
       "    .dataframe thead th {\n",
       "        text-align: right;\n",
       "    }\n",
       "</style>\n",
       "<table border=\"1\" class=\"dataframe\">\n",
       "  <thead>\n",
       "    <tr style=\"text-align: right;\">\n",
       "      <th></th>\n",
       "      <th>img_id</th>\n",
       "      <th>img_path</th>\n",
       "      <th>airplane</th>\n",
       "      <th>airport</th>\n",
       "      <th>bare soil</th>\n",
       "      <th>baseball diamond</th>\n",
       "      <th>basketball court</th>\n",
       "      <th>beach</th>\n",
       "      <th>bridge</th>\n",
       "      <th>buildings</th>\n",
       "      <th>...</th>\n",
       "      <th>tanks</th>\n",
       "      <th>tennis court</th>\n",
       "      <th>terrace</th>\n",
       "      <th>track</th>\n",
       "      <th>trail</th>\n",
       "      <th>transmission tower</th>\n",
       "      <th>trees</th>\n",
       "      <th>water</th>\n",
       "      <th>wetland</th>\n",
       "      <th>wind turbine</th>\n",
       "    </tr>\n",
       "  </thead>\n",
       "  <tbody>\n",
       "    <tr>\n",
       "      <th>0</th>\n",
       "      <td>000L8TYE</td>\n",
       "      <td>./train/000L8TYE.jpg</td>\n",
       "      <td>0</td>\n",
       "      <td>0</td>\n",
       "      <td>0</td>\n",
       "      <td>0</td>\n",
       "      <td>0</td>\n",
       "      <td>0</td>\n",
       "      <td>0</td>\n",
       "      <td>1</td>\n",
       "      <td>...</td>\n",
       "      <td>0</td>\n",
       "      <td>0</td>\n",
       "      <td>0</td>\n",
       "      <td>0</td>\n",
       "      <td>0</td>\n",
       "      <td>0</td>\n",
       "      <td>1</td>\n",
       "      <td>1</td>\n",
       "      <td>0</td>\n",
       "      <td>0</td>\n",
       "    </tr>\n",
       "    <tr>\n",
       "      <th>1</th>\n",
       "      <td>0035QTK9</td>\n",
       "      <td>./train/0035QTK9.jpg</td>\n",
       "      <td>0</td>\n",
       "      <td>0</td>\n",
       "      <td>1</td>\n",
       "      <td>0</td>\n",
       "      <td>0</td>\n",
       "      <td>0</td>\n",
       "      <td>0</td>\n",
       "      <td>1</td>\n",
       "      <td>...</td>\n",
       "      <td>0</td>\n",
       "      <td>0</td>\n",
       "      <td>0</td>\n",
       "      <td>0</td>\n",
       "      <td>0</td>\n",
       "      <td>0</td>\n",
       "      <td>1</td>\n",
       "      <td>0</td>\n",
       "      <td>0</td>\n",
       "      <td>0</td>\n",
       "    </tr>\n",
       "    <tr>\n",
       "      <th>2</th>\n",
       "      <td>00470HEH</td>\n",
       "      <td>./train/00470HEH.jpg</td>\n",
       "      <td>0</td>\n",
       "      <td>0</td>\n",
       "      <td>0</td>\n",
       "      <td>0</td>\n",
       "      <td>0</td>\n",
       "      <td>0</td>\n",
       "      <td>0</td>\n",
       "      <td>1</td>\n",
       "      <td>...</td>\n",
       "      <td>0</td>\n",
       "      <td>0</td>\n",
       "      <td>0</td>\n",
       "      <td>0</td>\n",
       "      <td>0</td>\n",
       "      <td>0</td>\n",
       "      <td>1</td>\n",
       "      <td>0</td>\n",
       "      <td>0</td>\n",
       "      <td>0</td>\n",
       "    </tr>\n",
       "    <tr>\n",
       "      <th>3</th>\n",
       "      <td>004CCB2Q</td>\n",
       "      <td>./train/004CCB2Q.jpg</td>\n",
       "      <td>0</td>\n",
       "      <td>0</td>\n",
       "      <td>1</td>\n",
       "      <td>0</td>\n",
       "      <td>0</td>\n",
       "      <td>0</td>\n",
       "      <td>0</td>\n",
       "      <td>0</td>\n",
       "      <td>...</td>\n",
       "      <td>0</td>\n",
       "      <td>0</td>\n",
       "      <td>0</td>\n",
       "      <td>0</td>\n",
       "      <td>0</td>\n",
       "      <td>0</td>\n",
       "      <td>1</td>\n",
       "      <td>1</td>\n",
       "      <td>0</td>\n",
       "      <td>0</td>\n",
       "    </tr>\n",
       "    <tr>\n",
       "      <th>4</th>\n",
       "      <td>005AY4ES</td>\n",
       "      <td>./train/005AY4ES.jpg</td>\n",
       "      <td>0</td>\n",
       "      <td>0</td>\n",
       "      <td>1</td>\n",
       "      <td>0</td>\n",
       "      <td>0</td>\n",
       "      <td>0</td>\n",
       "      <td>0</td>\n",
       "      <td>0</td>\n",
       "      <td>...</td>\n",
       "      <td>0</td>\n",
       "      <td>0</td>\n",
       "      <td>0</td>\n",
       "      <td>0</td>\n",
       "      <td>1</td>\n",
       "      <td>0</td>\n",
       "      <td>1</td>\n",
       "      <td>1</td>\n",
       "      <td>0</td>\n",
       "      <td>0</td>\n",
       "    </tr>\n",
       "  </tbody>\n",
       "</table>\n",
       "<p>5 rows × 62 columns</p>\n",
       "</div>"
      ],
      "text/plain": [
       "     img_id              img_path  airplane  airport  bare soil  \\\n",
       "0  000L8TYE  ./train/000L8TYE.jpg         0        0          0   \n",
       "1  0035QTK9  ./train/0035QTK9.jpg         0        0          1   \n",
       "2  00470HEH  ./train/00470HEH.jpg         0        0          0   \n",
       "3  004CCB2Q  ./train/004CCB2Q.jpg         0        0          1   \n",
       "4  005AY4ES  ./train/005AY4ES.jpg         0        0          1   \n",
       "\n",
       "   baseball diamond  basketball court  beach  bridge  buildings  ...  tanks  \\\n",
       "0                 0                 0      0       0          1  ...      0   \n",
       "1                 0                 0      0       0          1  ...      0   \n",
       "2                 0                 0      0       0          1  ...      0   \n",
       "3                 0                 0      0       0          0  ...      0   \n",
       "4                 0                 0      0       0          0  ...      0   \n",
       "\n",
       "   tennis court  terrace  track  trail  transmission tower  trees  water  \\\n",
       "0             0        0      0      0                   0      1      1   \n",
       "1             0        0      0      0                   0      1      0   \n",
       "2             0        0      0      0                   0      1      0   \n",
       "3             0        0      0      0                   0      1      1   \n",
       "4             0        0      0      1                   0      1      1   \n",
       "\n",
       "   wetland  wind turbine  \n",
       "0        0             0  \n",
       "1        0             0  \n",
       "2        0             0  \n",
       "3        0             0  \n",
       "4        0             0  \n",
       "\n",
       "[5 rows x 62 columns]"
      ]
     },
     "execution_count": 39,
     "metadata": {},
     "output_type": "execute_result"
    }
   ],
   "source": [
    "df = pd.read_csv('./train.csv')\n",
    "df.head()"
   ]
  },
  {
   "cell_type": "markdown",
   "id": "0380b40a-f540-4225-8ffc-50059fd28a2c",
   "metadata": {},
   "source": [
    "## Train / Validation Split"
   ]
  },
  {
   "cell_type": "code",
   "execution_count": 40,
   "id": "e6264d0c-597c-42ac-9f3a-7189a5883028",
   "metadata": {},
   "outputs": [],
   "source": [
    "df = df.sample(frac=1)\n",
    "train_len = int(len(df) * 0.8)\n",
    "train_df = df[:train_len]\n",
    "val_df = df[train_len:]"
   ]
  },
  {
   "cell_type": "code",
   "execution_count": 41,
   "id": "65e347ca-2363-4d7c-960b-76f8d7d9ba32",
   "metadata": {},
   "outputs": [
    {
     "data": {
      "text/plain": [
       "((52396, 62), (13100, 62))"
      ]
     },
     "execution_count": 41,
     "metadata": {},
     "output_type": "execute_result"
    }
   ],
   "source": [
    "(train_df.shape, val_df.shape)"
   ]
  },
  {
   "cell_type": "markdown",
   "id": "ad2d1e99-e723-4eb8-973c-b7eb2f8a771a",
   "metadata": {},
   "source": [
    "## Data Preprocessing"
   ]
  },
  {
   "cell_type": "code",
   "execution_count": 42,
   "id": "3ca4c3bb-d300-4c2a-9147-94d90e6faab6",
   "metadata": {},
   "outputs": [],
   "source": [
    "def get_labels(df):\n",
    "    return df.iloc[:,2:].values\n",
    "\n",
    "train_labels = get_labels(train_df)\n",
    "val_labels = get_labels(val_df)"
   ]
  },
  {
   "cell_type": "code",
   "execution_count": 43,
   "id": "bd787b46-3bf0-4f36-9dec-69a03bf921e0",
   "metadata": {},
   "outputs": [
    {
     "data": {
      "text/plain": [
       "((52396, 60), (13100, 60))"
      ]
     },
     "execution_count": 43,
     "metadata": {},
     "output_type": "execute_result"
    }
   ],
   "source": [
    "(train_labels.shape, val_labels.shape)"
   ]
  },
  {
   "cell_type": "markdown",
   "id": "ac27ed36-8031-47a7-bd0d-a913513f2e8e",
   "metadata": {},
   "source": [
    "## CustomDataset"
   ]
  },
  {
   "cell_type": "code",
   "execution_count": 44,
   "id": "16fd60a5-24e2-4539-bfd0-1c374a641699",
   "metadata": {},
   "outputs": [],
   "source": [
    "class CustomDataset(Dataset):\n",
    "    def __init__(self, img_path_list, label_list, transform=None):\n",
    "        self.img_path_list = img_path_list\n",
    "        self.label_list = label_list\n",
    "        self.transform = transform\n",
    "        \n",
    "    def __getitem__(self, index):\n",
    "        img_path = self.img_path_list[index]\n",
    "\n",
    "        # PIL 이미지로 불러오기\n",
    "        image = Image.open(img_path).convert(\"RGB\")\n",
    "        if self.transform is not None:\n",
    "            image = self.transform(image)\n",
    "        \n",
    "        if self.label_list is not None:\n",
    "            label = torch.tensor(self.label_list[index], dtype=torch.float32)\n",
    "            return image, label\n",
    "        else:\n",
    "            return image\n",
    "        \n",
    "    def __len__(self):\n",
    "        return len(self.img_path_list)"
   ]
  },
  {
   "cell_type": "code",
   "execution_count": 45,
   "id": "c01b4067-0669-44a9-bbbc-3065d8cb00c2",
   "metadata": {},
   "outputs": [],
   "source": [
    "train_transform = transforms.Compose([\n",
    "    transforms.ToTensor(),\n",
    "    transforms.Resize((CFG['IMG_SIZE'], CFG['IMG_SIZE'])),\n",
    "    transforms.RandomHorizontalFlip(p=0.5),\n",
    "    transforms.RandomRotation(degrees=(-30, 30), interpolation=transforms.InterpolationMode.BILINEAR, fill=0),\n",
    "    transforms.RandomAdjustSharpness(sharpness_factor=0.5, p=0.5),\n",
    "    transforms.Normalize(mean=[0.485, 0.456, 0.406], std=[0.229, 0.224, 0.225])\n",
    "])\n",
    "\n",
    "test_transform = transforms.Compose([\n",
    "    transforms.ToTensor(),\n",
    "    transforms.Resize((CFG['IMG_SIZE'], CFG['IMG_SIZE'])),\n",
    "    transforms.Normalize(mean=[0.485, 0.456, 0.406], std=[0.229, 0.224, 0.225])\n",
    "])"
   ]
  },
  {
   "cell_type": "code",
   "execution_count": 46,
   "id": "9d880481-1965-499d-9caa-fdfa8526f789",
   "metadata": {},
   "outputs": [],
   "source": [
    "train_dataset = CustomDataset(train_df['img_path'].values, train_labels, train_transform)\n",
    "train_loader = DataLoader(train_dataset, batch_size = CFG['BATCH_SIZE'], shuffle=True, num_workers=0)\n",
    "\n",
    "val_dataset = CustomDataset(val_df['img_path'].values, val_labels, test_transform)\n",
    "val_loader = DataLoader(val_dataset, batch_size = CFG['BATCH_SIZE'], shuffle=False, num_workers=0)"
   ]
  },
  {
   "cell_type": "markdown",
   "id": "39962463-032f-490a-a76d-c03991795f38",
   "metadata": {},
   "source": [
    "## Model Define"
   ]
  },
  {
   "cell_type": "code",
   "execution_count": 47,
   "id": "3664c4d0-f1f2-4971-9090-4d6ee66309ae",
   "metadata": {},
   "outputs": [],
   "source": [
    "class BaseModel(nn.Module):\n",
    "    def __init__(self, num_classes=60):\n",
    "        super(BaseModel, self).__init__()\n",
    "        self.backbone = models.resnet50(pretrained=True)\n",
    "        self.classifier = nn.Linear(1000, num_classes)\n",
    "        \n",
    "    def forward(self, x):\n",
    "        x = self.backbone(x)\n",
    "        x = F.sigmoid(self.classifier(x))\n",
    "        return x"
   ]
  },
  {
   "cell_type": "markdown",
   "id": "122af0aa-a1fd-4595-9488-35761e3cb596",
   "metadata": {},
   "source": [
    "## Train"
   ]
  },
  {
   "cell_type": "code",
   "execution_count": 48,
   "id": "a17df6b3-16c9-44dd-b0fd-ffb501fee749",
   "metadata": {},
   "outputs": [],
   "source": [
    "def train(model, optimizer, train_loader, val_loader, device):\n",
    "    model.to(device)\n",
    "    criterion = nn.BCELoss().to(device)\n",
    "    \n",
    "    best_val_loss = float('inf') \n",
    "    best_model = None\n",
    "    \n",
    "    for epoch in range(1, CFG['EPOCHS']+1):\n",
    "        model.train()\n",
    "        train_loss = []\n",
    "        for imgs, labels in tqdm(iter(train_loader)):\n",
    "            imgs = imgs.float().to(device)\n",
    "            labels = labels.to(device)\n",
    "            \n",
    "            optimizer.zero_grad()\n",
    "            \n",
    "            output = model(imgs)\n",
    "            loss = criterion(output, labels)\n",
    "            \n",
    "            loss.backward()\n",
    "            optimizer.step()\n",
    "            \n",
    "            train_loss.append(loss.item())\n",
    "                    \n",
    "        _val_loss = validation(model, criterion, val_loader, device)\n",
    "        _train_loss = np.mean(train_loss)\n",
    "        print(f'Epoch [{epoch}], Train Loss : [{_train_loss:.5f}] Val Loss : [{_val_loss:.5f}]')\n",
    "            \n",
    "        if best_val_loss > _val_loss:\n",
    "            best_val_loss = _val_loss\n",
    "            best_model = model\n",
    "    \n",
    "    return best_model"
   ]
  },
  {
   "cell_type": "code",
   "execution_count": 49,
   "id": "24a0bf01-27cd-4faf-93b1-3aa8a37be01c",
   "metadata": {},
   "outputs": [],
   "source": [
    "def validation(model, criterion, val_loader, device):\n",
    "    model.eval()\n",
    "    val_loss = []\n",
    "    with torch.no_grad():\n",
    "        for imgs, labels in tqdm(iter(val_loader)):\n",
    "            imgs = imgs.float().to(device)\n",
    "            labels = labels.to(device)\n",
    "            \n",
    "            probs = model(imgs)\n",
    "            \n",
    "            loss = criterion(probs, labels)\n",
    "\n",
    "            val_loss.append(loss.item())\n",
    "        \n",
    "        _val_loss = np.mean(val_loss)\n",
    "    \n",
    "    return _val_loss"
   ]
  },
  {
   "cell_type": "markdown",
   "id": "51da39f9-904f-4abd-a7d2-cdf29c4a6c24",
   "metadata": {},
   "source": [
    "## Run!!"
   ]
  },
  {
   "cell_type": "code",
   "execution_count": 51,
   "id": "86142d9a-68b7-4d04-8423-49d28025411d",
   "metadata": {
    "tags": []
   },
   "outputs": [
    {
     "data": {
      "application/vnd.jupyter.widget-view+json": {
       "model_id": "cb2d9c174d5d4af594c058f128eb1dee",
       "version_major": 2,
       "version_minor": 0
      },
      "text/plain": [
       "  0%|          | 0/1638 [00:00<?, ?it/s]"
      ]
     },
     "metadata": {},
     "output_type": "display_data"
    },
    {
     "ename": "KeyboardInterrupt",
     "evalue": "",
     "output_type": "error",
     "traceback": [
      "\u001b[1;31m---------------------------------------------------------------------------\u001b[0m",
      "\u001b[1;31mKeyboardInterrupt\u001b[0m                         Traceback (most recent call last)",
      "Cell \u001b[1;32mIn[51], line 4\u001b[0m\n\u001b[0;32m      1\u001b[0m \u001b[38;5;66;03m# model = BaseModel()\u001b[39;00m\n\u001b[0;32m      2\u001b[0m optimizer \u001b[38;5;241m=\u001b[39m torch\u001b[38;5;241m.\u001b[39moptim\u001b[38;5;241m.\u001b[39mAdam(params \u001b[38;5;241m=\u001b[39m model\u001b[38;5;241m.\u001b[39mparameters(), lr \u001b[38;5;241m=\u001b[39m CFG[\u001b[38;5;124m\"\u001b[39m\u001b[38;5;124mLEARNING_RATE\u001b[39m\u001b[38;5;124m\"\u001b[39m])\n\u001b[1;32m----> 4\u001b[0m infer_model \u001b[38;5;241m=\u001b[39m \u001b[43mtrain\u001b[49m\u001b[43m(\u001b[49m\u001b[43mmodel\u001b[49m\u001b[43m,\u001b[49m\u001b[43m \u001b[49m\u001b[43moptimizer\u001b[49m\u001b[43m,\u001b[49m\u001b[43m \u001b[49m\u001b[43mtrain_loader\u001b[49m\u001b[43m,\u001b[49m\u001b[43m \u001b[49m\u001b[43mval_loader\u001b[49m\u001b[43m,\u001b[49m\u001b[43m \u001b[49m\u001b[43mdevice\u001b[49m\u001b[43m)\u001b[49m\n",
      "Cell \u001b[1;32mIn[48], line 23\u001b[0m, in \u001b[0;36mtrain\u001b[1;34m(model, optimizer, train_loader, val_loader, device)\u001b[0m\n\u001b[0;32m     20\u001b[0m     loss\u001b[38;5;241m.\u001b[39mbackward()\n\u001b[0;32m     21\u001b[0m     optimizer\u001b[38;5;241m.\u001b[39mstep()\n\u001b[1;32m---> 23\u001b[0m     train_loss\u001b[38;5;241m.\u001b[39mappend(\u001b[43mloss\u001b[49m\u001b[38;5;241;43m.\u001b[39;49m\u001b[43mitem\u001b[49m\u001b[43m(\u001b[49m\u001b[43m)\u001b[49m)\n\u001b[0;32m     25\u001b[0m _val_loss \u001b[38;5;241m=\u001b[39m validation(model, criterion, val_loader, device)\n\u001b[0;32m     26\u001b[0m _train_loss \u001b[38;5;241m=\u001b[39m np\u001b[38;5;241m.\u001b[39mmean(train_loss)\n",
      "\u001b[1;31mKeyboardInterrupt\u001b[0m: "
     ]
    }
   ],
   "source": [
    "model = BaseModel()\n",
    "optimizer = torch.optim.Adam(params = model.parameters(), lr = CFG[\"LEARNING_RATE\"])\n",
    "\n",
    "infer_model = train(model, optimizer, train_loader, val_loader, device)"
   ]
  },
  {
   "cell_type": "markdown",
   "id": "d32efed9-ec88-40fc-83d2-e995e48c372a",
   "metadata": {},
   "source": [
    "## Inference"
   ]
  },
  {
   "cell_type": "code",
   "execution_count": 18,
   "id": "0498feef-9ca7-42ea-b73a-51a06dd4c684",
   "metadata": {},
   "outputs": [],
   "source": [
    "test = pd.read_csv('./test.csv')"
   ]
  },
  {
   "cell_type": "code",
   "execution_count": 19,
   "id": "a1bc676a-5216-4e1a-ac2c-3e940e8a3909",
   "metadata": {},
   "outputs": [],
   "source": [
    "test_dataset = CustomDataset(test['img_path'].values, None, test_transform)\n",
    "test_loader = DataLoader(test_dataset, batch_size = CFG['BATCH_SIZE'], shuffle=False, num_workers=0)WR "
   ]
  },
  {
   "cell_type": "code",
   "execution_count": 20,
   "id": "acc072b1-3749-4a0a-8c3b-80ef39a2fd56",
   "metadata": {},
   "outputs": [],
   "source": [
    "def inference(model, test_loader, device):\n",
    "    model.to(device)\n",
    "    model.eval()\n",
    "    predictions = []\n",
    "    with torch.no_grad():\n",
    "        for imgs in tqdm(iter(test_loader)):\n",
    "            imgs = imgs.float().to(device)\n",
    "            \n",
    "            probs = model(imgs)\n",
    "\n",
    "            probs  = probs.cpu().detach().numpy()\n",
    "            predictions += probs.tolist()\n",
    "    return predictions"
   ]
  },
  {
   "cell_type": "code",
   "execution_count": 21,
   "id": "9fcce1a1-995c-403b-9229-f4253dd5c702",
   "metadata": {},
   "outputs": [
    {
     "data": {
      "application/vnd.jupyter.widget-view+json": {
       "model_id": "1fd96fc6e84d49878930ca6f50157214",
       "version_major": 2,
       "version_minor": 0
      },
      "text/plain": [
       "  0%|          | 0/1365 [00:00<?, ?it/s]"
      ]
     },
     "metadata": {},
     "output_type": "display_data"
    }
   ],
   "source": [
    "preds = inference(infer_model, test_loader, device)"
   ]
  },
  {
   "cell_type": "markdown",
   "id": "370e5a18-de28-4c3d-a33b-77d4797911eb",
   "metadata": {},
   "source": [
    "## Submission"
   ]
  },
  {
   "cell_type": "code",
   "execution_count": 22,
   "id": "95107b25-7d4b-423f-90ce-849c6f4a46c0",
   "metadata": {},
   "outputs": [],
   "source": [
    "submit = pd.read_csv('./sample_submission.csv')"
   ]
  },
  {
   "cell_type": "code",
   "execution_count": 23,
   "id": "c7d82083-af35-4ba5-957d-1c7451404eab",
   "metadata": {
    "tags": []
   },
   "outputs": [
    {
     "data": {
      "text/html": [
       "<div>\n",
       "<style scoped>\n",
       "    .dataframe tbody tr th:only-of-type {\n",
       "        vertical-align: middle;\n",
       "    }\n",
       "\n",
       "    .dataframe tbody tr th {\n",
       "        vertical-align: top;\n",
       "    }\n",
       "\n",
       "    .dataframe thead th {\n",
       "        text-align: right;\n",
       "    }\n",
       "</style>\n",
       "<table border=\"1\" class=\"dataframe\">\n",
       "  <thead>\n",
       "    <tr style=\"text-align: right;\">\n",
       "      <th></th>\n",
       "      <th>img_id</th>\n",
       "      <th>airplane</th>\n",
       "      <th>airport</th>\n",
       "      <th>bare soil</th>\n",
       "      <th>baseball diamond</th>\n",
       "      <th>basketball court</th>\n",
       "      <th>beach</th>\n",
       "      <th>bridge</th>\n",
       "      <th>buildings</th>\n",
       "      <th>cars</th>\n",
       "      <th>...</th>\n",
       "      <th>tanks</th>\n",
       "      <th>tennis court</th>\n",
       "      <th>terrace</th>\n",
       "      <th>track</th>\n",
       "      <th>trail</th>\n",
       "      <th>transmission tower</th>\n",
       "      <th>trees</th>\n",
       "      <th>water</th>\n",
       "      <th>wetland</th>\n",
       "      <th>wind turbine</th>\n",
       "    </tr>\n",
       "  </thead>\n",
       "  <tbody>\n",
       "    <tr>\n",
       "      <th>0</th>\n",
       "      <td>000TT5XV</td>\n",
       "      <td>1.216909e-03</td>\n",
       "      <td>0.000168</td>\n",
       "      <td>0.802971</td>\n",
       "      <td>1.942979e-06</td>\n",
       "      <td>0.000691</td>\n",
       "      <td>1.838691e-04</td>\n",
       "      <td>9.731796e-05</td>\n",
       "      <td>0.918535</td>\n",
       "      <td>0.727279</td>\n",
       "      <td>...</td>\n",
       "      <td>2.319578e-06</td>\n",
       "      <td>8.481860e-06</td>\n",
       "      <td>0.000014</td>\n",
       "      <td>5.944356e-03</td>\n",
       "      <td>0.000057</td>\n",
       "      <td>0.000001</td>\n",
       "      <td>0.003779</td>\n",
       "      <td>0.999608</td>\n",
       "      <td>1.928736e-04</td>\n",
       "      <td>4.833288e-07</td>\n",
       "    </tr>\n",
       "    <tr>\n",
       "      <th>1</th>\n",
       "      <td>0013XXDH</td>\n",
       "      <td>6.007877e-08</td>\n",
       "      <td>0.000001</td>\n",
       "      <td>0.001128</td>\n",
       "      <td>4.360564e-05</td>\n",
       "      <td>0.000018</td>\n",
       "      <td>3.381401e-07</td>\n",
       "      <td>9.459382e-08</td>\n",
       "      <td>0.000625</td>\n",
       "      <td>0.000252</td>\n",
       "      <td>...</td>\n",
       "      <td>4.054677e-09</td>\n",
       "      <td>1.904128e-07</td>\n",
       "      <td>0.000001</td>\n",
       "      <td>2.065703e-07</td>\n",
       "      <td>0.001274</td>\n",
       "      <td>0.000002</td>\n",
       "      <td>0.999412</td>\n",
       "      <td>0.000269</td>\n",
       "      <td>6.355233e-06</td>\n",
       "      <td>2.926958e-10</td>\n",
       "    </tr>\n",
       "    <tr>\n",
       "      <th>2</th>\n",
       "      <td>001Z4YNH</td>\n",
       "      <td>7.917029e-07</td>\n",
       "      <td>0.000005</td>\n",
       "      <td>0.102211</td>\n",
       "      <td>1.680227e-04</td>\n",
       "      <td>0.000081</td>\n",
       "      <td>4.995895e-07</td>\n",
       "      <td>1.215417e-05</td>\n",
       "      <td>0.962133</td>\n",
       "      <td>0.915819</td>\n",
       "      <td>...</td>\n",
       "      <td>4.485662e-06</td>\n",
       "      <td>9.999830e-01</td>\n",
       "      <td>0.000215</td>\n",
       "      <td>6.111711e-05</td>\n",
       "      <td>0.003758</td>\n",
       "      <td>0.000040</td>\n",
       "      <td>0.999987</td>\n",
       "      <td>0.016852</td>\n",
       "      <td>5.795085e-07</td>\n",
       "      <td>5.908583e-10</td>\n",
       "    </tr>\n",
       "    <tr>\n",
       "      <th>3</th>\n",
       "      <td>00297F36</td>\n",
       "      <td>9.178202e-05</td>\n",
       "      <td>0.000356</td>\n",
       "      <td>0.012905</td>\n",
       "      <td>8.998579e-07</td>\n",
       "      <td>0.000912</td>\n",
       "      <td>5.484764e-06</td>\n",
       "      <td>4.409898e-05</td>\n",
       "      <td>0.999967</td>\n",
       "      <td>0.995982</td>\n",
       "      <td>...</td>\n",
       "      <td>3.567102e-04</td>\n",
       "      <td>9.297702e-04</td>\n",
       "      <td>0.000954</td>\n",
       "      <td>2.111486e-03</td>\n",
       "      <td>0.004554</td>\n",
       "      <td>0.001488</td>\n",
       "      <td>0.989932</td>\n",
       "      <td>0.006444</td>\n",
       "      <td>4.911836e-06</td>\n",
       "      <td>1.201083e-08</td>\n",
       "    </tr>\n",
       "    <tr>\n",
       "      <th>4</th>\n",
       "      <td>002GFJL0</td>\n",
       "      <td>3.977301e-05</td>\n",
       "      <td>0.000347</td>\n",
       "      <td>0.948188</td>\n",
       "      <td>1.046191e-04</td>\n",
       "      <td>0.000314</td>\n",
       "      <td>3.704622e-05</td>\n",
       "      <td>1.808911e-04</td>\n",
       "      <td>0.991798</td>\n",
       "      <td>0.826639</td>\n",
       "      <td>...</td>\n",
       "      <td>8.047081e-07</td>\n",
       "      <td>1.238619e-05</td>\n",
       "      <td>0.000004</td>\n",
       "      <td>3.722357e-05</td>\n",
       "      <td>0.000033</td>\n",
       "      <td>0.000003</td>\n",
       "      <td>0.003590</td>\n",
       "      <td>0.995688</td>\n",
       "      <td>2.882336e-04</td>\n",
       "      <td>7.423709e-06</td>\n",
       "    </tr>\n",
       "  </tbody>\n",
       "</table>\n",
       "<p>5 rows × 61 columns</p>\n",
       "</div>"
      ],
      "text/plain": [
       "     img_id      airplane   airport  bare soil  baseball diamond  \\\n",
       "0  000TT5XV  1.216909e-03  0.000168   0.802971      1.942979e-06   \n",
       "1  0013XXDH  6.007877e-08  0.000001   0.001128      4.360564e-05   \n",
       "2  001Z4YNH  7.917029e-07  0.000005   0.102211      1.680227e-04   \n",
       "3  00297F36  9.178202e-05  0.000356   0.012905      8.998579e-07   \n",
       "4  002GFJL0  3.977301e-05  0.000347   0.948188      1.046191e-04   \n",
       "\n",
       "   basketball court         beach        bridge  buildings      cars  ...  \\\n",
       "0          0.000691  1.838691e-04  9.731796e-05   0.918535  0.727279  ...   \n",
       "1          0.000018  3.381401e-07  9.459382e-08   0.000625  0.000252  ...   \n",
       "2          0.000081  4.995895e-07  1.215417e-05   0.962133  0.915819  ...   \n",
       "3          0.000912  5.484764e-06  4.409898e-05   0.999967  0.995982  ...   \n",
       "4          0.000314  3.704622e-05  1.808911e-04   0.991798  0.826639  ...   \n",
       "\n",
       "          tanks  tennis court   terrace         track     trail  \\\n",
       "0  2.319578e-06  8.481860e-06  0.000014  5.944356e-03  0.000057   \n",
       "1  4.054677e-09  1.904128e-07  0.000001  2.065703e-07  0.001274   \n",
       "2  4.485662e-06  9.999830e-01  0.000215  6.111711e-05  0.003758   \n",
       "3  3.567102e-04  9.297702e-04  0.000954  2.111486e-03  0.004554   \n",
       "4  8.047081e-07  1.238619e-05  0.000004  3.722357e-05  0.000033   \n",
       "\n",
       "   transmission tower     trees     water       wetland  wind turbine  \n",
       "0            0.000001  0.003779  0.999608  1.928736e-04  4.833288e-07  \n",
       "1            0.000002  0.999412  0.000269  6.355233e-06  2.926958e-10  \n",
       "2            0.000040  0.999987  0.016852  5.795085e-07  5.908583e-10  \n",
       "3            0.001488  0.989932  0.006444  4.911836e-06  1.201083e-08  \n",
       "4            0.000003  0.003590  0.995688  2.882336e-04  7.423709e-06  \n",
       "\n",
       "[5 rows x 61 columns]"
      ]
     },
     "execution_count": 23,
     "metadata": {},
     "output_type": "execute_result"
    }
   ],
   "source": [
    "submit.iloc[:,1:] = preds\n",
    "submit.head()"
   ]
  },
  {
   "cell_type": "code",
   "execution_count": 24,
   "id": "dd24b98d-1ac7-46df-a833-16d4cb57ac04",
   "metadata": {},
   "outputs": [],
   "source": [
    "submit.to_csv('./baseline_submit.csv', index=False)"
   ]
  }
 ],
 "metadata": {
  "kernelspec": {
   "display_name": "Python 3 (ipykernel)",
   "language": "python",
   "name": "python3"
  },
  "language_info": {
   "codemirror_mode": {
    "name": "ipython",
    "version": 3
   },
   "file_extension": ".py",
   "mimetype": "text/x-python",
   "name": "python",
   "nbconvert_exporter": "python",
   "pygments_lexer": "ipython3",
   "version": "3.9.18"
  }
 },
 "nbformat": 4,
 "nbformat_minor": 5
}
